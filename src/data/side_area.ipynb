{
 "cells": [
  {
   "attachments": {},
   "cell_type": "markdown",
   "metadata": {},
   "source": [
    "# Convert community area to side area JSON object"
   ]
  },
  {
   "attachments": {},
   "cell_type": "markdown",
   "metadata": {},
   "source": [
    "## Load community areas"
   ]
  },
  {
   "cell_type": "code",
   "execution_count": 11,
   "metadata": {},
   "outputs": [
    {
     "data": {
      "text/html": [
       "<div>\n",
       "<style scoped>\n",
       "    .dataframe tbody tr th:only-of-type {\n",
       "        vertical-align: middle;\n",
       "    }\n",
       "\n",
       "    .dataframe tbody tr th {\n",
       "        vertical-align: top;\n",
       "    }\n",
       "\n",
       "    .dataframe thead th {\n",
       "        text-align: right;\n",
       "    }\n",
       "</style>\n",
       "<table border=\"1\" class=\"dataframe\">\n",
       "  <thead>\n",
       "    <tr style=\"text-align: right;\">\n",
       "      <th></th>\n",
       "      <th>AREA_NUMBER</th>\n",
       "      <th>COMMUNITY</th>\n",
       "      <th>SIDE</th>\n",
       "      <th>GEOM</th>\n",
       "    </tr>\n",
       "  </thead>\n",
       "  <tbody>\n",
       "    <tr>\n",
       "      <th>0</th>\n",
       "      <td>1</td>\n",
       "      <td>ROGERS PARK</td>\n",
       "      <td>Far North Side</td>\n",
       "      <td>POLYGON((-87.6545639965891 41.998181358122, -8...</td>\n",
       "    </tr>\n",
       "    <tr>\n",
       "      <th>1</th>\n",
       "      <td>2</td>\n",
       "      <td>WEST RIDGE</td>\n",
       "      <td>Far North Side</td>\n",
       "      <td>POLYGON((-87.6848528132288 42.0194867077215, -...</td>\n",
       "    </tr>\n",
       "    <tr>\n",
       "      <th>2</th>\n",
       "      <td>3</td>\n",
       "      <td>UPTOWN</td>\n",
       "      <td>Far North Side</td>\n",
       "      <td>POLYGON((-87.6410325151573 41.9548318492655, -...</td>\n",
       "    </tr>\n",
       "    <tr>\n",
       "      <th>3</th>\n",
       "      <td>4</td>\n",
       "      <td>LINCOLN SQUARE</td>\n",
       "      <td>Far North Side</td>\n",
       "      <td>POLYGON((-87.6744115943986 41.9762015856515, -...</td>\n",
       "    </tr>\n",
       "    <tr>\n",
       "      <th>4</th>\n",
       "      <td>5</td>\n",
       "      <td>NORTH CENTER</td>\n",
       "      <td>North Side</td>\n",
       "      <td>POLYGON((-87.6733822119817 41.9333950059926, -...</td>\n",
       "    </tr>\n",
       "  </tbody>\n",
       "</table>\n",
       "</div>"
      ],
      "text/plain": [
       "   AREA_NUMBER       COMMUNITY            SIDE  \\\n",
       "0            1     ROGERS PARK  Far North Side   \n",
       "1            2      WEST RIDGE  Far North Side   \n",
       "2            3          UPTOWN  Far North Side   \n",
       "3            4  LINCOLN SQUARE  Far North Side   \n",
       "4            5    NORTH CENTER      North Side   \n",
       "\n",
       "                                                GEOM  \n",
       "0  POLYGON((-87.6545639965891 41.998181358122, -8...  \n",
       "1  POLYGON((-87.6848528132288 42.0194867077215, -...  \n",
       "2  POLYGON((-87.6410325151573 41.9548318492655, -...  \n",
       "3  POLYGON((-87.6744115943986 41.9762015856515, -...  \n",
       "4  POLYGON((-87.6733822119817 41.9333950059926, -...  "
      ]
     },
     "execution_count": 11,
     "metadata": {},
     "output_type": "execute_result"
    }
   ],
   "source": [
    "# load community area file\n",
    "import pandas as pd\n",
    "\n",
    "# read in the community area file\n",
    "df = pd.read_csv('comarea.csv')\n",
    "df.head()"
   ]
  },
  {
   "attachments": {},
   "cell_type": "markdown",
   "metadata": {},
   "source": [
    "## Merge the community areas GEOM by SIDE"
   ]
  },
  {
   "cell_type": "code",
   "execution_count": 12,
   "metadata": {},
   "outputs": [
    {
     "name": "stdout",
     "output_type": "stream",
     "text": [
      "                 SIDE                                               GEOM\n",
      "0             Central  POLYGON ((-87.6385465883832 41.8868573755107, ...\n",
      "1      Far North Side  MULTIPOLYGON (((-87.682895212355 42.0194673924...\n",
      "2  Far Southeast Side  POLYGON ((-87.6340574930654 41.7415670050351, ...\n",
      "3  Far Southwest Side  POLYGON ((-87.6829090011201 41.7355222386606, ...\n",
      "4          North Side  POLYGON ((-87.7317475439354 41.9322886468486, ...\n",
      "5      Northwest Side  POLYGON ((-87.7925823032591 41.9185174817885, ...\n",
      "6          South Side  POLYGON ((-87.6433169007906 41.8496926612565, ...\n",
      "7      Southwest Side  POLYGON ((-87.8012581874017 41.785667463855, -...\n",
      "8           West Side  POLYGON ((-87.7399820065206 41.8659591989946, ...\n"
     ]
    }
   ],
   "source": [
    "# import Polygon\n",
    "from shapely.geometry import Polygon\n",
    "from shapely.wkt import loads\n",
    "\n",
    "# define function to merge polygons\n",
    "def merge_geoms(geoms):\n",
    "    merged = Polygon()\n",
    "    for geom in geoms:\n",
    "        merged = merged.union(loads(geom))\n",
    "    return merged\n",
    "\n",
    "# group by SIDE column and apply merge_geoms function to GEOM column\n",
    "merged_df = df.groupby('SIDE')['GEOM'].apply(merge_geoms).reset_index()\n",
    "print(merged_df.head(10))"
   ]
  },
  {
   "cell_type": "code",
   "execution_count": 10,
   "metadata": {},
   "outputs": [],
   "source": [
    "# export to CSV\n",
    "merged_df.to_csv('side_area.csv', index=False)"
   ]
  },
  {
   "cell_type": "code",
   "execution_count": 15,
   "metadata": {},
   "outputs": [
    {
     "ename": "AttributeError",
     "evalue": "'Series' object has no attribute '__geo_interface__'",
     "output_type": "error",
     "traceback": [
      "\u001b[0;31m---------------------------------------------------------------------------\u001b[0m",
      "\u001b[0;31mAttributeError\u001b[0m                            Traceback (most recent call last)",
      "\u001b[0;32m/var/folders/nd/2yz24zyn6rv1nphhbkb_mt480000gn/T/ipykernel_5904/1990930723.py\u001b[0m in \u001b[0;36m<module>\u001b[0;34m\u001b[0m\n\u001b[1;32m      6\u001b[0m     feature = {\n\u001b[1;32m      7\u001b[0m         \u001b[0;34m\"type\"\u001b[0m\u001b[0;34m:\u001b[0m \u001b[0;34m\"Feature\"\u001b[0m\u001b[0;34m,\u001b[0m\u001b[0;34m\u001b[0m\u001b[0;34m\u001b[0m\u001b[0m\n\u001b[0;32m----> 8\u001b[0;31m         \u001b[0;34m\"geometry\"\u001b[0m\u001b[0;34m:\u001b[0m \u001b[0mgeom\u001b[0m\u001b[0;34m.\u001b[0m\u001b[0m__geo_interface__\u001b[0m\u001b[0;34m,\u001b[0m\u001b[0;34m\u001b[0m\u001b[0;34m\u001b[0m\u001b[0m\n\u001b[0m\u001b[1;32m      9\u001b[0m         \"properties\": {\n\u001b[1;32m     10\u001b[0m             \u001b[0;34m\"name\"\u001b[0m\u001b[0;34m:\u001b[0m \u001b[0mindex\u001b[0m\u001b[0;34m\u001b[0m\u001b[0;34m\u001b[0m\u001b[0m\n",
      "\u001b[0;32m/opt/anaconda3/lib/python3.9/site-packages/pandas/core/generic.py\u001b[0m in \u001b[0;36m__getattr__\u001b[0;34m(self, name)\u001b[0m\n\u001b[1;32m   5573\u001b[0m         ):\n\u001b[1;32m   5574\u001b[0m             \u001b[0;32mreturn\u001b[0m \u001b[0mself\u001b[0m\u001b[0;34m[\u001b[0m\u001b[0mname\u001b[0m\u001b[0;34m]\u001b[0m\u001b[0;34m\u001b[0m\u001b[0;34m\u001b[0m\u001b[0m\n\u001b[0;32m-> 5575\u001b[0;31m         \u001b[0;32mreturn\u001b[0m \u001b[0mobject\u001b[0m\u001b[0;34m.\u001b[0m\u001b[0m__getattribute__\u001b[0m\u001b[0;34m(\u001b[0m\u001b[0mself\u001b[0m\u001b[0;34m,\u001b[0m \u001b[0mname\u001b[0m\u001b[0;34m)\u001b[0m\u001b[0;34m\u001b[0m\u001b[0;34m\u001b[0m\u001b[0m\n\u001b[0m\u001b[1;32m   5576\u001b[0m \u001b[0;34m\u001b[0m\u001b[0m\n\u001b[1;32m   5577\u001b[0m     \u001b[0;32mdef\u001b[0m \u001b[0m__setattr__\u001b[0m\u001b[0;34m(\u001b[0m\u001b[0mself\u001b[0m\u001b[0;34m,\u001b[0m \u001b[0mname\u001b[0m\u001b[0;34m:\u001b[0m \u001b[0mstr\u001b[0m\u001b[0;34m,\u001b[0m \u001b[0mvalue\u001b[0m\u001b[0;34m)\u001b[0m \u001b[0;34m->\u001b[0m \u001b[0;32mNone\u001b[0m\u001b[0;34m:\u001b[0m\u001b[0;34m\u001b[0m\u001b[0;34m\u001b[0m\u001b[0m\n",
      "\u001b[0;31mAttributeError\u001b[0m: 'Series' object has no attribute '__geo_interface__'"
     ]
    }
   ],
   "source": [
    "import json\n",
    "\n",
    "# convert to a GeoJSON object\n",
    "features = []\n",
    "for i, (index, geom) in enumerate(merged_df.items()):\n",
    "    feature = {\n",
    "        \"type\": \"Feature\",\n",
    "        \"geometry\": geom.__geo_interface__,\n",
    "        \"properties\": {\n",
    "            \"name\": index\n",
    "        }\n",
    "    }\n",
    "    features.append(feature)\n",
    "\n",
    "geojson = {\n",
    "    \"type\": \"FeatureCollection\",\n",
    "    \"features\": features\n",
    "}\n",
    "\n",
    "with open('side_area.json', 'w') as outfile:\n",
    "    json.dump(geojson, outfile)"
   ]
  }
 ],
 "metadata": {
  "kernelspec": {
   "display_name": "base",
   "language": "python",
   "name": "python3"
  },
  "language_info": {
   "codemirror_mode": {
    "name": "ipython",
    "version": 3
   },
   "file_extension": ".py",
   "mimetype": "text/x-python",
   "name": "python",
   "nbconvert_exporter": "python",
   "pygments_lexer": "ipython3",
   "version": "3.9.13"
  },
  "orig_nbformat": 4
 },
 "nbformat": 4,
 "nbformat_minor": 2
}
