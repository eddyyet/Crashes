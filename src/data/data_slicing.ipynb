{
 "cells": [
  {
   "cell_type": "markdown",
   "metadata": {},
   "source": [
    "## Slice the large CSV into a data cube with figures aggregated"
   ]
  },
  {
   "cell_type": "code",
   "execution_count": 2,
   "metadata": {},
   "outputs": [],
   "source": [
    "# import libraries\n",
    "import pandas as pd\n",
    "\n",
    "# read data\n",
    "df = pd.read_csv('../../../data/crashes.csv')"
   ]
  },
  {
   "attachments": {},
   "cell_type": "markdown",
   "metadata": {},
   "source": [
    "## Loading checking"
   ]
  },
  {
   "cell_type": "code",
   "execution_count": 32,
   "metadata": {},
   "outputs": [
    {
     "name": "stdout",
     "output_type": "stream",
     "text": [
      "                                     CRASH_RECORD_ID     RD_NO  \\\n",
      "0  79c7a2ce89f446262efd86df3d72d18b04ba487024b7c4...  JC199149   \n",
      "1  792b539deaaad65ee5b4a9691d927a34d298eb33d42af0...  JB422857   \n",
      "2  0115ade9a755e835255508463f7e9c4a9a0b47e9304238...  JF318029   \n",
      "3  017040c61958d2fa977c956b2bd2d6759ef7754496dc96...  JF324552   \n",
      "4  78eee027ec3dcc85d36c9e3fdae4729dcc56440105d65b...  JB291672   \n",
      "\n",
      "  CRASH_DATE_EST_I  POSTED_SPEED_LIMIT TRAFFIC_CONTROL_DEVICE  \\\n",
      "0              NaN                  30         TRAFFIC SIGNAL   \n",
      "1              NaN                  30            NO CONTROLS   \n",
      "2              NaN                  30                UNKNOWN   \n",
      "3              NaN                  30         TRAFFIC SIGNAL   \n",
      "4              NaN                  30            NO CONTROLS   \n",
      "\n",
      "       DEVICE_CONDITION WEATHER_CONDITION      LIGHTING_CONDITION  \\\n",
      "0  FUNCTIONING PROPERLY             CLEAR                DAYLIGHT   \n",
      "1           NO CONTROLS             CLEAR                DAYLIGHT   \n",
      "2               UNKNOWN             CLEAR  DARKNESS, LIGHTED ROAD   \n",
      "3  FUNCTIONING PROPERLY             CLEAR                DAYLIGHT   \n",
      "4           NO CONTROLS             CLEAR                 UNKNOWN   \n",
      "\n",
      "       FIRST_CRASH_TYPE TRAFFICWAY_TYPE  ...  CRASH_MONTH   LATITUDE  \\\n",
      "0               TURNING         ONE-WAY  ...            3  41.884547   \n",
      "1                 ANGLE     NOT DIVIDED  ...            9  41.968562   \n",
      "2                 ANGLE     NOT DIVIDED  ...            7  41.886336   \n",
      "3              REAR END     NOT DIVIDED  ...            7  41.925111   \n",
      "4  PARKED MOTOR VEHICLE         ONE-WAY  ...            6  41.910758   \n",
      "\n",
      "   LONGITUDE                                  LOCATION       CRASH_DATETIME  \\\n",
      "0 -87.641201   POINT (-87.64120093714 41.884547224337)  2019-03-25 14:43:00   \n",
      "1 -87.740659  POINT (-87.740659314632 41.968562453871)  2018-09-05 08:40:00   \n",
      "2 -87.716203  POINT (-87.716203130599 41.886336409761)  2022-07-15 00:45:00   \n",
      "3 -87.667997  POINT (-87.667997321599 41.925110815832)  2022-07-15 18:50:00   \n",
      "4 -87.731389  POINT (-87.731388754145 41.910757551599)  2018-06-03 17:00:00   \n",
      "\n",
      "  DATETIME_POLICE_NOTIFIED AREA_NUMBER           COMMUNITY            SIDE  \\\n",
      "0      2019-03-25 15:17:00          28      NEAR WEST SIDE       West Side   \n",
      "1      2018-09-05 09:00:00          14         ALBANY PARK  Far North Side   \n",
      "2      2022-07-15 00:50:00          27  EAST GARFIELD PARK       West Side   \n",
      "3      2022-07-20 11:00:00           7        LINCOLN PARK      North Side   \n",
      "4      2018-06-03 20:00:00          23       HUMBOLDT PARK       West Side   \n",
      "\n",
      "  CRASH_YEAR  \n",
      "0       2019  \n",
      "1       2018  \n",
      "2       2022  \n",
      "3       2022  \n",
      "4       2018  \n",
      "\n",
      "[5 rows x 53 columns]\n"
     ]
    },
    {
     "data": {
      "text/plain": [
       "(541604, 53)"
      ]
     },
     "execution_count": 32,
     "metadata": {},
     "output_type": "execute_result"
    }
   ],
   "source": [
    "print(df.head())\n",
    "df.shape"
   ]
  },
  {
   "attachments": {},
   "cell_type": "markdown",
   "metadata": {},
   "source": [
    "## People involved and injured"
   ]
  },
  {
   "cell_type": "code",
   "execution_count": 4,
   "metadata": {},
   "outputs": [],
   "source": [
    "# calculate the total of row count, INJURIES_TOTAL, INJURIES_FATAL, INJURIES_INCAPACITATING, INJURIES_NON_INCAPACITATING, INJURIES_REPORTED_NOT_EVIDENT, INJURIES_NO_INDICATION, INJURIES_UNKNOWN\n",
    "injuries = df.groupby(['CRASH_YEAR','SIDE']).agg({'INJURIES_TOTAL':'sum','INJURIES_FATAL':'sum','INJURIES_INCAPACITATING':'sum','INJURIES_NON_INCAPACITATING':'sum','INJURIES_REPORTED_NOT_EVIDENT':'sum','INJURIES_NO_INDICATION':'sum'}).reset_index()\n",
    "\n",
    "# convert columns other than 'CRASH_YEAR', 'SIDE' to int\n",
    "injuries.iloc[:,2:] = injuries.iloc[:,2:].fillna(0).astype(int)\n",
    "\n",
    "# select columns to be used\n",
    "crash_ppl_involved = injuries[['CRASH_YEAR','SIDE','INJURIES_TOTAL','INJURIES_NO_INDICATION']]\n",
    "crash_ppl_injured = injuries[['CRASH_YEAR','SIDE','INJURIES_FATAL','INJURIES_INCAPACITATING','INJURIES_NON_INCAPACITATING','INJURIES_REPORTED_NOT_EVIDENT']]\n",
    "\n",
    "# rename columns\n",
    "crash_ppl_involved.columns = ['CRASH_YEAR','SIDE','Injured','No indication of injury']\n",
    "crash_ppl_injured.columns = ['CRASH_YEAR','SIDE','Fatal','Incapacitating','Non-incapacitating','Reported but not evident']\n",
    "\n",
    "# output to JSON\n",
    "crash_ppl_involved.to_json('crash_ppl_involved.json',orient='records',indent=2)\n",
    "crash_ppl_injured.to_json('crash_ppl_injured.json',orient='records',indent=2)"
   ]
  },
  {
   "cell_type": "code",
   "execution_count": 35,
   "metadata": {},
   "outputs": [
    {
     "name": "stdout",
     "output_type": "stream",
     "text": [
      "Injuries proportion\n"
     ]
    },
    {
     "data": {
      "text/html": [
       "<div>\n",
       "<style scoped>\n",
       "    .dataframe tbody tr th:only-of-type {\n",
       "        vertical-align: middle;\n",
       "    }\n",
       "\n",
       "    .dataframe tbody tr th {\n",
       "        vertical-align: top;\n",
       "    }\n",
       "\n",
       "    .dataframe thead th {\n",
       "        text-align: right;\n",
       "    }\n",
       "</style>\n",
       "<table border=\"1\" class=\"dataframe\">\n",
       "  <thead>\n",
       "    <tr style=\"text-align: right;\">\n",
       "      <th></th>\n",
       "      <th>CRASH_YEAR</th>\n",
       "      <th>INJURIES_TOTAL</th>\n",
       "      <th>FATAL</th>\n",
       "      <th>INCAPACITATING</th>\n",
       "      <th>NON_INCAPACITATING</th>\n",
       "      <th>NOT_EVIDENT</th>\n",
       "    </tr>\n",
       "  </thead>\n",
       "  <tbody>\n",
       "    <tr>\n",
       "      <th>0</th>\n",
       "      <td>2018</td>\n",
       "      <td>22424.0</td>\n",
       "      <td>0.6</td>\n",
       "      <td>11.1</td>\n",
       "      <td>56.1</td>\n",
       "      <td>32.3</td>\n",
       "    </tr>\n",
       "    <tr>\n",
       "      <th>1</th>\n",
       "      <td>2019</td>\n",
       "      <td>22270.0</td>\n",
       "      <td>0.5</td>\n",
       "      <td>10.6</td>\n",
       "      <td>56.4</td>\n",
       "      <td>32.5</td>\n",
       "    </tr>\n",
       "    <tr>\n",
       "      <th>2</th>\n",
       "      <td>2020</td>\n",
       "      <td>19622.0</td>\n",
       "      <td>0.7</td>\n",
       "      <td>11.3</td>\n",
       "      <td>58.1</td>\n",
       "      <td>29.8</td>\n",
       "    </tr>\n",
       "    <tr>\n",
       "      <th>3</th>\n",
       "      <td>2021</td>\n",
       "      <td>22205.0</td>\n",
       "      <td>0.7</td>\n",
       "      <td>10.6</td>\n",
       "      <td>58.9</td>\n",
       "      <td>29.8</td>\n",
       "    </tr>\n",
       "    <tr>\n",
       "      <th>4</th>\n",
       "      <td>2022</td>\n",
       "      <td>21858.0</td>\n",
       "      <td>0.7</td>\n",
       "      <td>10.3</td>\n",
       "      <td>57.7</td>\n",
       "      <td>31.2</td>\n",
       "    </tr>\n",
       "  </tbody>\n",
       "</table>\n",
       "</div>"
      ],
      "text/plain": [
       "   CRASH_YEAR  INJURIES_TOTAL  FATAL  INCAPACITATING  NON_INCAPACITATING  \\\n",
       "0        2018         22424.0    0.6            11.1                56.1   \n",
       "1        2019         22270.0    0.5            10.6                56.4   \n",
       "2        2020         19622.0    0.7            11.3                58.1   \n",
       "3        2021         22205.0    0.7            10.6                58.9   \n",
       "4        2022         21858.0    0.7            10.3                57.7   \n",
       "\n",
       "   NOT_EVIDENT  \n",
       "0         32.3  \n",
       "1         32.5  \n",
       "2         29.8  \n",
       "3         29.8  \n",
       "4         31.2  "
      ]
     },
     "execution_count": 35,
     "metadata": {},
     "output_type": "execute_result"
    }
   ],
   "source": [
    "\n",
    "#divide the  INJURIES_FATAL, INJURIES_INCAPACITATING, INJURIES_NON_INCAPACITATING, INJURIES_REPORTED_NOT_EVIDENT fields by INJURIES_TOTAL and convert to percentage\n",
    "injuries_percent = injuries.copy()\n",
    "injuries_percent['FATAL'] = round((injuries_percent['INJURIES_FATAL']/injuries_percent['INJURIES_TOTAL'])*100,1)\n",
    "injuries_percent['INCAPACITATING'] =round((injuries_percent['INJURIES_INCAPACITATING']/injuries_percent['INJURIES_TOTAL'])*100,1)\n",
    "injuries_percent['NON_INCAPACITATING'] = round((injuries_percent['INJURIES_NON_INCAPACITATING']/injuries_percent['INJURIES_TOTAL'])*100,1)\n",
    "injuries_percent['NOT_EVIDENT'] = round((injuries_percent['INJURIES_REPORTED_NOT_EVIDENT']/injuries_percent['INJURIES_TOTAL'])*100,1)\n",
    "injuries_percent_clean = injuries_percent[['CRASH_YEAR','INJURIES_TOTAL','FATAL','INCAPACITATING','NON_INCAPACITATING','NOT_EVIDENT']]\n",
    "\n",
    "print(\"Injuries proportion\")\n",
    "injuries_percent_clean.head(10)"
   ]
  },
  {
   "attachments": {},
   "cell_type": "markdown",
   "metadata": {},
   "source": [
    "## Time"
   ]
  },
  {
   "cell_type": "code",
   "execution_count": 5,
   "metadata": {},
   "outputs": [],
   "source": [
    "#pivot CRASH_DAY_OF_WEEK and CRASH_HOUR to create a new column for each month and day\n",
    "crash_day_time = df.pivot_table(index=['CRASH_YEAR','SIDE'], columns=['CRASH_DAY_OF_WEEK','CRASH_HOUR'], values='CRASH_RECORD_ID', aggfunc='count').reset_index()\n",
    "\n",
    "#convert columns other than 'CRASH_YEAR', 'SIDE' to int\n",
    "crash_day_time.iloc[:,2:] = crash_day_time.iloc[:,2:].fillna(0).astype(int)\n",
    "\n",
    "#flatten the column to 1 layer and rename the columns of CRASH_DAY_OF_WEEK and CRASH_HOUR into a comma seperated string\n",
    "crash_day_time.columns = ['CRASH_YEAR','SIDE', \\\n",
    "                          'Sun,0','Sun,1','Sun,2','Sun,3','Sun,4','Sun,5','Sun,6','Sun,7','Sun,8','Sun,9','Sun,10','Sun,11','Sun,12','Sun,13','Sun,14','Sun,15','Sun,16','Sun,17','Sun,18','Sun,19','Sun,20','Sun,21','Sun,22','Sun,23', \\\n",
    "                          'Mon,0','Mon,1','Mon,2','Mon,3','Mon,4','Mon,5','Mon,6','Mon,7','Mon,8','Mon,9','Mon,10','Mon,11','Mon,12','Mon,13','Mon,14','Mon,15','Mon,16','Mon,17','Mon,18','Mon,19','Mon,20','Mon,21','Mon,22','Mon,23', \\\n",
    "                          'Tue,0','Tue,1','Tue,2','Tue,3','Tue,4','Tue,5','Tue,6','Tue,7','Tue,8','Tue,9','Tue,10','Tue,11','Tue,12','Tue,13','Tue,14','Tue,15','Tue,16','Tue,17','Tue,18','Tue,19','Tue,20','Tue,21','Tue,22','Tue,23', \\\n",
    "                          'Wed,0','Wed,1','Wed,2','Wed,3','Wed,4','Wed,5','Wed,6','Wed,7','Wed,8','Wed,9','Wed,10','Wed,11','Wed,12','Wed,13','Wed,14','Wed,15','Wed,16','Wed,17','Wed,18','Wed,19','Wed,20','Wed,21','Wed,22','Wed,23', \\\n",
    "                          'Thu,0','Thu,1','Thu,2','Thu,3','Thu,4','Thu,5','Thu,6','Thu,7','Thu,8','Thu,9','Thu,10','Thu,11','Thu,12','Thu,13','Thu,14','Thu,15','Thu,16','Thu,17','Thu,18','Thu,19','Thu,20','Thu,21','Thu,22','Thu,23', \\\n",
    "                          'Fri,0','Fri,1','Fri,2','Fri,3','Fri,4','Fri,5','Fri,6','Fri,7','Fri,8','Fri,9','Fri,10','Fri,11','Fri,12','Fri,13','Fri,14','Fri,15','Fri,16','Fri,17','Fri,18','Fri,19','Fri,20','Fri,21','Fri,22','Fri,23', \\\n",
    "                          'Sat,0','Sat,1','Sat,2','Sat,3','Sat,4','Sat,5','Sat,6','Sat,7','Sat,8','Sat,9','Sat,10','Sat,11','Sat,12','Sat,13','Sat,14','Sat,15','Sat,16','Sat,17','Sat,18','Sat,19','Sat,20','Sat,21','Sat,22','Sat,23']\n",
    "crash_day_time.head()\n",
    "\n",
    "#output to JSON\n",
    "crash_day_time.to_json('crash_day_time.json', orient='records',indent=2)"
   ]
  },
  {
   "attachments": {},
   "cell_type": "markdown",
   "metadata": {},
   "source": [
    "## Causes"
   ]
  },
  {
   "cell_type": "code",
   "execution_count": 30,
   "metadata": {},
   "outputs": [],
   "source": [
    "causes = df.pivot_table(index=['CRASH_YEAR','SIDE'],columns='PRIM_CONTRIBUTORY_CAUSE',values='CRASH_RECORD_ID',aggfunc='count').reset_index()\n",
    "\n",
    "# convert columns other than 'CRASH_YEAR', 'SIDE' to int\n",
    "causes.iloc[:,2:] = causes.iloc[:,2:].fillna(0).astype(int)\n",
    "\n",
    "# ensure the names are sorted in alphabetical order\n",
    "cols = causes.columns.tolist()\n",
    "# remove CRASH_YEAR and SIDE from the list\n",
    "cols.remove('CRASH_YEAR')\n",
    "cols.remove('SIDE')\n",
    "# reorder the columns\n",
    "cols.sort()\n",
    "cols = ['CRASH_YEAR', 'SIDE'] + cols\n",
    "causes = causes[cols]\n",
    "\n",
    "# rename the columns\n",
    "causes.columns = ['CRASH_YEAR','SIDE', \\\n",
    "                'Animal', \\\n",
    "                'Bicycle advancing legally on red light', \\\n",
    "                'Cell phone use other than texting', \\\n",
    "                'Disregarding other traffic signs', \\\n",
    "                'Disregarding road markings', \\\n",
    "                'Disregarding stop sign', \\\n",
    "                'Disregarding traffic signals', \\\n",
    "                'Disregarding yield sign', \\\n",
    "                'Distraction - from inside vehicle', \\\n",
    "                'Distraction - from outside vehicle', \\\n",
    "                'Distraction - other electronic device (navigation device, DVD player, etc.)', \\\n",
    "                'Driving on wrong side/wrong way', \\\n",
    "                'Driving skills/knowledge/experience', \\\n",
    "                'Equipment - vehicle condition', \\\n",
    "                'Evasive action due to animal, object, nonmotorist', \\\n",
    "                'Exceeding authorized speed limit', \\\n",
    "                'Exceeding safe speed for conditions', \\\n",
    "                'Failing to reduce speed to avoid crash', \\\n",
    "                'Failing to yield right-of-way', \\\n",
    "                'Following too closely', \\\n",
    "                'Had been drinking (not arrested)', \\\n",
    "                'Improper backing', \\\n",
    "                'Improper lane usage', \\\n",
    "                'Improper overtaking/passing', \\\n",
    "                'Improper turning/no signal', \\\n",
    "                'Motorcycle advancing legally on red light', \\\n",
    "                'Not applicable', \\\n",
    "                'Obstructed crosswalks', \\\n",
    "                'Operating vehicle in erratic, reckless, careless, negligent or aggressive manner', \\\n",
    "                'Passing stopped school bus', \\\n",
    "                'Physical condition of driver', \\\n",
    "                'Related to bus stop', \\\n",
    "                'Road construction/maintenance', \\\n",
    "                'Road engineering/surface/marking defects', \\\n",
    "                'Texting', \\\n",
    "                'Turning right on red', \\\n",
    "                'Unable to determine', \\\n",
    "                'Under the influence of alcohol/drugs (arrested)', \\\n",
    "                'Vision obscured (signs, tree limbs, buildings, etc.)', \\\n",
    "                'Weather']\n",
    "\n",
    "# output to JSON\n",
    "causes.to_json('crash_cause.json', orient='records',indent=2)"
   ]
  }
 ],
 "metadata": {
  "kernelspec": {
   "display_name": "Python 3 (ipykernel)",
   "language": "python",
   "name": "python3"
  },
  "language_info": {
   "codemirror_mode": {
    "name": "ipython",
    "version": 3
   },
   "file_extension": ".py",
   "mimetype": "text/x-python",
   "name": "python",
   "nbconvert_exporter": "python",
   "pygments_lexer": "ipython3",
   "version": "3.9.13"
  }
 },
 "nbformat": 4,
 "nbformat_minor": 2
}
